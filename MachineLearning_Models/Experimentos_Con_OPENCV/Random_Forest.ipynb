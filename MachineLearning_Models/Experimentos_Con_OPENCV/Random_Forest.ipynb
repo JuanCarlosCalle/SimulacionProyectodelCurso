{
 "cells": [
  {
   "cell_type": "code",
   "execution_count": 12,
   "metadata": {},
   "outputs": [],
   "source": [
    "from __future__ import division\n",
    "import numpy as np\n",
    "import scipy as sc\n",
    "import matplotlib.pyplot as plt\n",
    "from scipy import stats\n",
    "#Algunas advertencias que queremos evitar\n",
    "import warnings\n",
    "warnings.filterwarnings(\"always\")\n",
    "%matplotlib inline"
   ]
  },
  {
   "cell_type": "code",
   "execution_count": 13,
   "metadata": {},
   "outputs": [],
   "source": [
    "from sklearn.decomposition import PCA\n",
    "import pandas as pd"
   ]
  },
  {
   "cell_type": "code",
   "execution_count": 14,
   "metadata": {},
   "outputs": [],
   "source": [
    "df_x = pd.read_csv('Features_X')\n",
    "df_y = pd.read_csv('Y_labels')"
   ]
  },
  {
   "cell_type": "code",
   "execution_count": 15,
   "metadata": {},
   "outputs": [],
   "source": [
    "df_y.drop(['Unnamed: 0'],axis=1, inplace = True)\n",
    "df_x.drop(['Unnamed: 0'],axis=1, inplace = True)"
   ]
  },
  {
   "cell_type": "code",
   "execution_count": 16,
   "metadata": {},
   "outputs": [],
   "source": [
    "X = pd.DataFrame.to_numpy(df_x)\n",
    "Y = pd.DataFrame.to_numpy(df_y)"
   ]
  },
  {
   "cell_type": "code",
   "execution_count": 17,
   "metadata": {},
   "outputs": [
    {
     "name": "stdout",
     "output_type": "stream",
     "text": [
      "(13493, 150)\n",
      "(13493, 1)\n"
     ]
    }
   ],
   "source": [
    "print(X.shape)\n",
    "print(Y.shape)"
   ]
  },
  {
   "cell_type": "code",
   "execution_count": 18,
   "metadata": {},
   "outputs": [
    {
     "name": "stdout",
     "output_type": "stream",
     "text": [
      "[0. 1. 2. 3. 4.]\n"
     ]
    }
   ],
   "source": [
    "clases = np.unique(Y)\n",
    "print(clases)"
   ]
  },
  {
   "cell_type": "code",
   "execution_count": 27,
   "metadata": {},
   "outputs": [
    {
     "name": "stdout",
     "output_type": "stream",
     "text": [
      "         0         1         2         3         4         5         6  \\\n",
      "0 -0.00329  0.001521  0.003442  0.002179  0.000675 -0.000187  0.035664   \n",
      "\n",
      "          7        8         9  ...       140       141      142       143  \\\n",
      "0  0.067577  0.01895 -0.008507  ... -0.000061 -0.000671  0.00214  0.002037   \n",
      "\n",
      "        144       145       146       147       148       149  \n",
      "0  0.015363  0.001468  0.032428  0.013984  0.116484  0.149174  \n",
      "\n",
      "[1 rows x 150 columns]\n"
     ]
    }
   ],
   "source": [
    "print(df_x[0:1])"
   ]
  },
  {
   "cell_type": "code",
   "execution_count": 36,
   "metadata": {},
   "outputs": [
    {
     "name": "stdout",
     "output_type": "stream",
     "text": [
      "(9445, 150) (9445, 1) (4048, 150) (4048, 1)\n"
     ]
    },
    {
     "data": {
      "image/png": "[encoded data removed]",
      "text/plain": [
       "<Figure size 432x288 with 1 Axes>"
      ]
     },
     "metadata": {
      "needs_background": "light"
     },
     "output_type": "display_data"
    }
   ],
   "source": [
    "from sklearn.model_selection import train_test_split\n",
    "\n",
    "X_train, X_test, y_train, y_test = train_test_split(X, Y, test_size=0.30,stratify=Y, random_state=77)\n",
    "\n",
    "\n",
    "\n",
    "print(X_train.shape, y_train.shape, X_test.shape, y_test.shape)\n",
    "plt.hist(y_train)\n",
    "plt.hist(y_test)\n",
    "plt.show()"
   ]
  },
  {
   "cell_type": "code",
   "execution_count": 37,
   "metadata": {},
   "outputs": [],
   "source": [
    "from sklearn.preprocessing import StandardScaler\n",
    "\n",
    "sc = StandardScaler()\n",
    "X_train = sc.fit_transform(X_train)\n",
    "X_test = sc.transform(X_test)"
   ]
  },
  {
   "cell_type": "code",
   "execution_count": 38,
   "metadata": {},
   "outputs": [
    {
     "name": "stderr",
     "output_type": "stream",
     "text": [
      "C:\\ProgramData\\Anaconda3\\lib\\site-packages\\ipykernel_launcher.py:4: DataConversionWarning: A column-vector y was passed when a 1d array was expected. Please change the shape of y to (n_samples,), for example using ravel().\n",
      "  after removing the cwd from sys.path.\n"
     ]
    }
   ],
   "source": [
    "from sklearn.ensemble import RandomForestRegressor\n",
    "\n",
    "regressor = RandomForestRegressor(n_estimators=20, random_state=0)\n",
    "regressor.fit(X_train, y_train)\n",
    "y_pred = regressor.predict(X_test)"
   ]
  },
  {
   "cell_type": "code",
   "execution_count": 39,
   "metadata": {},
   "outputs": [
    {
     "name": "stdout",
     "output_type": "stream",
     "text": [
      "Mean Absolute Error: 0.9653285573122529\n",
      "Mean Squared Error: 1.30446084486166\n",
      "Root Mean Squared Error: 1.1421299597075893\n"
     ]
    }
   ],
   "source": [
    "from sklearn import metrics\n",
    "\n",
    "print('Mean Absolute Error:', metrics.mean_absolute_error(y_test, y_pred))\n",
    "print('Mean Squared Error:', metrics.mean_squared_error(y_test, y_pred))\n",
    "print('Root Mean Squared Error:', np.sqrt(metrics.mean_squared_error(y_test, y_pred)))"
   ]
  },
  {
   "cell_type": "code",
   "execution_count": 40,
   "metadata": {},
   "outputs": [
    {
     "name": "stderr",
     "output_type": "stream",
     "text": [
      "C:\\ProgramData\\Anaconda3\\lib\\site-packages\\ipykernel_launcher.py:4: DataConversionWarning: A column-vector y was passed when a 1d array was expected. Please change the shape of y to (n_samples,), for example using ravel().\n",
      "  after removing the cwd from sys.path.\n"
     ]
    }
   ],
   "source": [
    "from sklearn.ensemble import RandomForestRegressor\n",
    "\n",
    "regressor = RandomForestRegressor(n_estimators=200, random_state=0)\n",
    "regressor.fit(X_train, y_train)\n",
    "y_pred = regressor.predict(X_test)"
   ]
  },
  {
   "cell_type": "code",
   "execution_count": 41,
   "metadata": {},
   "outputs": [
    {
     "name": "stdout",
     "output_type": "stream",
     "text": [
      "Mean Absolute Error: 0.9575802865612648\n",
      "Mean Squared Error: 1.2504597393774703\n",
      "Root Mean Squared Error: 1.1182395715487226\n"
     ]
    }
   ],
   "source": [
    "from sklearn import metrics\n",
    "\n",
    "print('Mean Absolute Error:', metrics.mean_absolute_error(y_test, y_pred))\n",
    "print('Mean Squared Error:', metrics.mean_squared_error(y_test, y_pred))\n",
    "print('Root Mean Squared Error:', np.sqrt(metrics.mean_squared_error(y_test, y_pred)))"
   ]
  },
  {
   "cell_type": "code",
   "execution_count": null,
   "metadata": {},
   "outputs": [],
   "source": []
  },
  {
   "cell_type": "code",
   "execution_count": null,
   "metadata": {},
   "outputs": [],
   "source": []
  },
  {
   "cell_type": "code",
   "execution_count": 44,
   "metadata": {},
   "outputs": [],
   "source": [
    "# Importar la función train_test_split\n",
    "from sklearn.model_selection import train_test_split\n",
    "\n",
    "# Dividir conjunto de datos en conjunto de entrenamiento y conjunto de prueba\n",
    "X_train, X_test, y_train, y_test = train_test_split(X, Y, test_size=0.3)# 70% de entrenamiento y 30% de prueba"
   ]
  },
  {
   "cell_type": "code",
   "execution_count": 45,
   "metadata": {},
   "outputs": [
    {
     "name": "stderr",
     "output_type": "stream",
     "text": [
      "C:\\ProgramData\\Anaconda3\\lib\\site-packages\\ipykernel_launcher.py:8: DataConversionWarning: A column-vector y was passed when a 1d array was expected. Please change the shape of y to (n_samples,), for example using ravel().\n",
      "  \n"
     ]
    }
   ],
   "source": [
    "#Importar Random Forest Model\n",
    "from sklearn.ensemble import RandomForestClassifier\n",
    "\n",
    "# Crear un clasificador gaussiano\n",
    "clf=RandomForestClassifier(n_estimators=100)\n",
    "\n",
    "\n",
    "# Entrene al modelo utilizando los conjuntos de entrenamiento y_pred = clf.predict (X_test)\n",
    "clf.fit(X_train,y_train)\n",
    "\n",
    "y_pred=clf.predict(X_test)"
   ]
  },
  {
   "cell_type": "code",
   "execution_count": 46,
   "metadata": {},
   "outputs": [
    {
     "name": "stdout",
     "output_type": "stream",
     "text": [
      "Accuracy: 0.37969367588932806\n"
     ]
    }
   ],
   "source": [
    "# Importe el módulo de métricas scikit-learn para el cálculo de precisión\n",
    "from sklearn import metrics\n",
    "# Precisión del modelo, ¿con qué frecuencia es correcto el clasificador?\n",
    "print(\"Accuracy:\",metrics.accuracy_score(y_test, y_pred))"
   ]
  },
  {
   "cell_type": "code",
   "execution_count": 47,
   "metadata": {},
   "outputs": [
    {
     "data": {
      "text/plain": [
       "array([0.])"
      ]
     },
     "execution_count": 47,
     "metadata": {},
     "output_type": "execute_result"
    }
   ],
   "source": [
    "clf.predict([[-0.0032896,0.0015205472,0.0034423987,0.0021791323,0.00067547045,-0.00018693817,0.03566443,0.06757717,0.018949876,-0.008506807,0.079626635,0.06304311,0.0008710121,-0.00091109384,0.0011865032,0.0014432404,-0.021527227,0.005030199,0.022840297,0.032850865,0.19623192,0.08578962,0.26177227,0.24194849,-0.17320238,0.16917886,0.51181567,0.33235738,0.009269076,-0.018688919,0.02531705,0.04822629,-0.00637541,0.0047167502,0.008994706,0.008054122,0.14474894,-0.08941086,0.26878485,0.15511364,-0.088533126,-0.102395274,0.43688762,0.18803708,0.0021562097,0.019998273,0.010077791,0.033855274,-0.0014400395,0.0015116006,0.001842482,0.0023112602,-0.016213197,0.0030862591,0.022028435,0.020622298,0.0069021476,0.0013255649,0.013604264,0.025619153,0.002767082,-0.007850898,0.0033648666,0.009389838,-0.00010783361,-0.00010783361,0.00010783361,0.00010783361,-0.0022587993,-0.0060558347,0.0022587993,0.0060558347,-0.0023218538,-0.011012572,0.0023218538,0.011012572,-0.0013563085,-0.0026350694,0.0013563085,0.0026350694,-0.0061450065,-0.0027911093,0.0061450065,0.0027911093,0.12951902,0.09225087,0.26862872,0.20920774,-0.1384087,0.3250206,0.14888793,0.48198777,0.029862447,0.033345092,0.03959309,0.057815082,-0.013771903,-0.0070766965,0.013771903,0.0070766965,0.30605954,-0.054662954,0.5090341,0.13381703,-0.121199004,-0.1641615,0.14374126,0.1749147,-0.005720731,-0.01645962,0.007019377,0.020725233,0.00035517407,0.00062789576,0.004380655,0.004001825,0.010048748,0.016077582,0.04454922,0.041210312,-0.00931103,-0.0042980844,0.009611655,0.005630244,0.0007678482,-0.00027583397,0.00097208325,0.001268157,-0.003482906,-0.0016355761,0.0039515244,0.0024066651,0.015356402,-0.008113524,0.06265446,0.013817946,0.0016272056,-0.024160678,0.019137088,0.027938532,-6.0988532e-05,-0.00067075354,0.0021395693,0.0020369154,0.0153628215,0.0014684558,0.032428253,0.013983843,0.11648401,0.14917403]])"
   ]
  },
  {
   "cell_type": "code",
   "execution_count": 48,
   "metadata": {},
   "outputs": [
    {
     "data": {
      "text/plain": [
       "array([2.])"
      ]
     },
     "execution_count": 48,
     "metadata": {},
     "output_type": "execute_result"
    }
   ],
   "source": [
    "clf.predict([[0.0007788498,-0.0032243554,0.002988453,0.004549696,0.015853241,-0.03006331,0.028121421,0.034919307,-0.009310409,0.01157062,0.023659747,0.027948465,-0.0003127226,-0.0012259292,0.004194638,0.0048566335,0.003570901,-0.014716793,0.014267844,0.022168012,0.2651355,0.016940737,0.34208268,0.26060817,-0.13772048,0.076855056,0.31923735,0.48838034,-0.018904008,0.0278548,0.024848942,0.07162326,0.0011744559,0.037490923,0.01635469,0.03948469,0.13870107,-0.038198885,0.35037115,0.1614892,0.0014128862,-0.21497203,0.20944826,0.30406326,0.009749329,-0.01570309,0.03334304,0.035012774,0.0018805201,-0.0021057322,0.0036353061,0.0026371775,-0.020166118,-0.010208877,0.05927747,0.012978682,0.014032272,0.03374743,0.040154193,0.03629974,-0.0008003417,-0.0012941216,0.0050293333,0.0078131845,-0.0008769322,0.016665887,0.0010347937,0.018955769,-0.0067666834,0.03798491,0.013404556,0.06580484,0.0011588951,-0.021929407,0.005080458,0.022545118,-0.00069839566,-0.001992572,0.00081487146,0.001992572,-0.0008320818,-0.020095004,0.02574213,0.030421961,-0.1767299,-0.024320044,0.3039251,0.41263363,0.18127468,0.13012743,0.27896813,0.32754534,-0.018175505,0.043376695,0.020209327,0.057897728,0.039161947,-0.011986741,0.050215226,0.042279273,-0.09544837,-0.021790823,0.40370607,0.25468212,0.14473157,0.05636012,0.3168963,0.27059475,-0.032602157,-0.02584385,0.035236277,0.02703748,-0.0018680126,0.002672025,0.0020697005,0.003522778,0.054399304,-0.0043893047,0.060587134,0.026290048,-0.033832952,0.004884034,0.03687188,0.013949012,0.0014513135,0.0015218353,0.004685666,0.0023023325,0.00096954126,0.004658395,0.004218617,0.0054042083,0.0024531824,-0.01852466,0.064351164,0.025281122,0.017358176,0.009960803,0.02916006,0.034988035,-0.002509636,-0.003872626,0.005630448,0.011200435,-0.007476102,-0.009035179,0.033604234,0.041988056,0.24231862,0.08023877]])"
   ]
  },
  {
   "cell_type": "code",
   "execution_count": null,
   "metadata": {},
   "outputs": [],
   "source": []
  },
  {
   "cell_type": "code",
   "execution_count": null,
   "metadata": {},
   "outputs": [],
   "source": []
  },
  {
   "cell_type": "code",
   "execution_count": 49,
   "metadata": {},
   "outputs": [
    {
     "name": "stderr",
     "output_type": "stream",
     "text": [
      "C:\\ProgramData\\Anaconda3\\lib\\site-packages\\ipykernel_launcher.py:7: DataConversionWarning: A column-vector y was passed when a 1d array was expected. Please change the shape of y to (n_samples,), for example using ravel().\n",
      "  import sys\n"
     ]
    },
    {
     "data": {
      "text/plain": [
       "RandomForestClassifier(bootstrap=True, ccp_alpha=0.0, class_weight=None,\n",
       "                       criterion='gini', max_depth=None, max_features='auto',\n",
       "                       max_leaf_nodes=None, max_samples=None,\n",
       "                       min_impurity_decrease=0.0, min_impurity_split=None,\n",
       "                       min_samples_leaf=1, min_samples_split=2,\n",
       "                       min_weight_fraction_leaf=0.0, n_estimators=100,\n",
       "                       n_jobs=None, oob_score=False, random_state=None,\n",
       "                       verbose=0, warm_start=False)"
      ]
     },
     "execution_count": 49,
     "metadata": {},
     "output_type": "execute_result"
    }
   ],
   "source": [
    "from sklearn.ensemble import RandomForestClassifier\n",
    "\n",
    "#Create a Gaussian Classifier\n",
    "clf=RandomForestClassifier(n_estimators=100)\n",
    "\n",
    "#Train the model using the training sets y_pred=clf.predict(X_test)\n",
    "clf.fit(X_train,y_train)"
   ]
  },
  {
   "cell_type": "code",
   "execution_count": 63,
   "metadata": {},
   "outputs": [
    {
     "data": {
      "text/plain": [
       "135    0.007516\n",
       "140    0.007444\n",
       "149    0.007437\n",
       "137    0.007365\n",
       "141    0.007351\n",
       "         ...   \n",
       "46     0.006027\n",
       "97     0.005990\n",
       "13     0.005961\n",
       "99     0.005943\n",
       "115    0.005923\n",
       "Length: 150, dtype: float64"
      ]
     },
     "execution_count": 63,
     "metadata": {},
     "output_type": "execute_result"
    }
   ],
   "source": [
    "import pandas as pd\n",
    "feature_imp = pd.Series(clf.feature_importances_,[0,1,2,3,4,5,6,7,8,9,10,11,12,13,14,15,16,17,18,19,20,21,22,23,24,25,26,27,28,29,30,31,32,33,34,35,36,37,38,39,40,41,42,43,44,45,46,47,48,49,50,51,52,53,54,55,56,57,58,59,60,61,62,63,64,65,66,67,68,69,70,71,72,73,74,75,76,77,78,79,80,81,82,83,84,85,86,87,88,89,90,91,92,93,94,95,96,97,98,99,100,101,102,103,104,105,106,107,108,109,110,111,112,113,114,115,116,117,118,119,120,121,122,123,124,125,126,127,128,129,130,131,132,133,134,135,136,137,138,139,140,141,142,143,144,145,146,147,148,149]).sort_values(ascending=False)\n",
    "feature_imp"
   ]
  },
  {
   "cell_type": "code",
   "execution_count": 64,
   "metadata": {},
   "outputs": [
    {
     "name": "stderr",
     "output_type": "stream",
     "text": [
      "No handles with labels found to put in legend.\n"
     ]
    },
    {
     "data": {
      "image/png": "[encoded data removed]",
      "text/plain": [
       "<Figure size 432x288 with 1 Axes>"
      ]
     },
     "metadata": {
      "needs_background": "light"
     },
     "output_type": "display_data"
    }
   ],
   "source": [
    "import matplotlib.pyplot as plt\n",
    "import seaborn as sns\n",
    "%matplotlib inline\n",
    "# Creating a bar plot\n",
    "sns.barplot(x=feature_imp, y=feature_imp.index)\n",
    "# Add labels to your graph\n",
    "plt.xlabel('Feature Importance Score')\n",
    "plt.ylabel('Features')\n",
    "plt.title(\"Visualizing Important Features\")\n",
    "plt.legend()\n",
    "plt.show()"
   ]
  },
  {
   "cell_type": "code",
   "execution_count": null,
   "metadata": {},
   "outputs": [],
   "source": []
  }
 ],
 "metadata": {
  "kernelspec": {
   "display_name": "Python 3",
   "language": "python",
   "name": "python3"
  },
  "language_info": {
   "codemirror_mode": {
    "name": "ipython",
    "version": 3
   },
   "file_extension": ".py",
   "mimetype": "text/x-python",
   "name": "python",
   "nbconvert_exporter": "python",
   "pygments_lexer": "ipython3",
   "version": "3.7.4"
  }
 },
 "nbformat": 4,
 "nbformat_minor": 4
}
